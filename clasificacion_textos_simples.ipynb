{
  "nbformat": 4,
  "nbformat_minor": 0,
  "metadata": {
    "anaconda-cloud": {},
    "kernelspec": {
      "display_name": "Python 3",
      "language": "python",
      "name": "python3"
    },
    "language_info": {
      "codemirror_mode": {
        "name": "ipython",
        "version": 3
      },
      "file_extension": ".py",
      "mimetype": "text/x-python",
      "name": "python",
      "nbconvert_exporter": "python",
      "pygments_lexer": "ipython3",
      "version": "3.6.5"
    },
    "colab": {
      "name": "clasificacion_textos_simples.ipynb",
      "provenance": [],
      "collapsed_sections": [],
      "include_colab_link": true
    }
  },
  "cells": [
    {
      "cell_type": "markdown",
      "metadata": {
        "id": "view-in-github",
        "colab_type": "text"
      },
      "source": [
        "<a href=\"https://colab.research.google.com/github/merrecalde/curso_la_plata_2019/blob/master/clasificacion_textos_simples.ipynb\" target=\"_parent\"><img src=\"https://colab.research.google.com/assets/colab-badge.svg\" alt=\"Open In Colab\"/></a>"
      ]
    },
    {
      "cell_type": "markdown",
      "metadata": {
        "id": "YynxnpTlxlE6",
        "colab_type": "text"
      },
      "source": [
        "# notebook: clasificacion_textos_simple.ipynb\n"
      ]
    },
    {
      "cell_type": "markdown",
      "metadata": {
        "id": "rMfdBE39xlE7",
        "colab_type": "text"
      },
      "source": [
        "Comenzaremos, antes que nada, importando algunas herramientas útiles:"
      ]
    },
    {
      "cell_type": "code",
      "metadata": {
        "id": "sYIUpDH_xlE8",
        "colab_type": "code",
        "colab": {}
      },
      "source": [
        "%matplotlib inline\n",
        "import numpy as np\n",
        "import matplotlib.pyplot as plt\n",
        "import seaborn as sns; sns.set()"
      ],
      "execution_count": 0,
      "outputs": []
    },
    {
      "cell_type": "markdown",
      "metadata": {
        "id": "Wjxp8VrbxlFA",
        "colab_type": "text"
      },
      "source": [
        "### Ejemplo: Clasificando Texto\n",
        "\n",
        "Usaremos en este caso, como método de clasificación, al algoritmo Bayes ingenuo multinomial (\"multinomial naive Bayes\") el cual es usualmente utilizado para categoriación de textos, donde las características (features) se relacionan con el número de palabras o las frecuencias con que las palabras ocurren dentro de los documentos a ser clasificados.\n",
        " \n",
        "Descarguemos los datos y demos un vistazo a los nombres objetivo:"
      ]
    },
    {
      "cell_type": "code",
      "metadata": {
        "id": "k3lcosC7xlFB",
        "colab_type": "code",
        "outputId": "fee5b75b-430c-4ed3-f4c7-53271cbc8e19",
        "colab": {
          "base_uri": "https://localhost:8080/",
          "height": 381
        }
      },
      "source": [
        "from sklearn.datasets import fetch_20newsgroups\n",
        "\n",
        "datos = fetch_20newsgroups()\n",
        "datos.target_names"
      ],
      "execution_count": 2,
      "outputs": [
        {
          "output_type": "execute_result",
          "data": {
            "text/plain": [
              "['alt.atheism',\n",
              " 'comp.graphics',\n",
              " 'comp.os.ms-windows.misc',\n",
              " 'comp.sys.ibm.pc.hardware',\n",
              " 'comp.sys.mac.hardware',\n",
              " 'comp.windows.x',\n",
              " 'misc.forsale',\n",
              " 'rec.autos',\n",
              " 'rec.motorcycles',\n",
              " 'rec.sport.baseball',\n",
              " 'rec.sport.hockey',\n",
              " 'sci.crypt',\n",
              " 'sci.electronics',\n",
              " 'sci.med',\n",
              " 'sci.space',\n",
              " 'soc.religion.christian',\n",
              " 'talk.politics.guns',\n",
              " 'talk.politics.mideast',\n",
              " 'talk.politics.misc',\n",
              " 'talk.religion.misc']"
            ]
          },
          "metadata": {
            "tags": []
          },
          "execution_count": 2
        }
      ]
    },
    {
      "cell_type": "code",
      "metadata": {
        "id": "LecgDjuPuOc5",
        "colab_type": "code",
        "colab": {
          "base_uri": "https://localhost:8080/",
          "height": 35
        },
        "outputId": "60ea0d06-090a-4f4d-a283-6c611b969f61"
      },
      "source": [
        "print(datos.keys())"
      ],
      "execution_count": 3,
      "outputs": [
        {
          "output_type": "stream",
          "text": [
            "dict_keys(['data', 'filenames', 'target_names', 'target', 'DESCR'])\n"
          ],
          "name": "stdout"
        }
      ]
    },
    {
      "cell_type": "code",
      "metadata": {
        "id": "33lh-vgQsu8g",
        "colab_type": "code",
        "colab": {
          "base_uri": "https://localhost:8080/",
          "height": 54
        },
        "outputId": "c1207f61-49e2-4db2-a6da-1320e8698dfb"
      },
      "source": [
        "print(type(datos))\n",
        "print(type(datos.data))"
      ],
      "execution_count": 4,
      "outputs": [
        {
          "output_type": "stream",
          "text": [
            "<class 'sklearn.utils.Bunch'>\n",
            "<class 'list'>\n"
          ],
          "name": "stdout"
        }
      ]
    },
    {
      "cell_type": "code",
      "metadata": {
        "id": "ujHg0o9Hs3YR",
        "colab_type": "code",
        "colab": {
          "base_uri": "https://localhost:8080/",
          "height": 35
        },
        "outputId": "f3e9bcb5-35d4-46f2-b92a-bb535d9cdda3"
      },
      "source": [
        "len(datos.data)"
      ],
      "execution_count": 5,
      "outputs": [
        {
          "output_type": "execute_result",
          "data": {
            "text/plain": [
              "11314"
            ]
          },
          "metadata": {
            "tags": []
          },
          "execution_count": 5
        }
      ]
    },
    {
      "cell_type": "code",
      "metadata": {
        "id": "mzS5PUrwydF-",
        "colab_type": "code",
        "colab": {
          "base_uri": "https://localhost:8080/",
          "height": 417
        },
        "outputId": "e9bbde54-9e61-4435-9280-504cb04fb3e9"
      },
      "source": [
        "print(datos.data[0])"
      ],
      "execution_count": 6,
      "outputs": [
        {
          "output_type": "stream",
          "text": [
            "From: lerxst@wam.umd.edu (where's my thing)\n",
            "Subject: WHAT car is this!?\n",
            "Nntp-Posting-Host: rac3.wam.umd.edu\n",
            "Organization: University of Maryland, College Park\n",
            "Lines: 15\n",
            "\n",
            " I was wondering if anyone out there could enlighten me on this car I saw\n",
            "the other day. It was a 2-door sports car, looked to be from the late 60s/\n",
            "early 70s. It was called a Bricklin. The doors were really small. In addition,\n",
            "the front bumper was separate from the rest of the body. This is \n",
            "all I know. If anyone can tellme a model name, engine specs, years\n",
            "of production, where this car is made, history, or whatever info you\n",
            "have on this funky looking car, please e-mail.\n",
            "\n",
            "Thanks,\n",
            "- IL\n",
            "   ---- brought to you by your neighborhood Lerxst ----\n",
            "\n",
            "\n",
            "\n",
            "\n",
            "\n"
          ],
          "name": "stdout"
        }
      ]
    },
    {
      "cell_type": "code",
      "metadata": {
        "id": "STgQQuoXy4cT",
        "colab_type": "code",
        "colab": {
          "base_uri": "https://localhost:8080/",
          "height": 35
        },
        "outputId": "ff965805-263d-4b9d-f2f6-40a148a2466d"
      },
      "source": [
        "print(datos.target[0])"
      ],
      "execution_count": 7,
      "outputs": [
        {
          "output_type": "stream",
          "text": [
            "7\n"
          ],
          "name": "stdout"
        }
      ]
    },
    {
      "cell_type": "code",
      "metadata": {
        "id": "5JP1_Cu3zG6N",
        "colab_type": "code",
        "colab": {
          "base_uri": "https://localhost:8080/",
          "height": 381
        },
        "outputId": "ee17e3c7-b4f8-4c7b-c373-c3a198bb569d"
      },
      "source": [
        "datos.target_names"
      ],
      "execution_count": 8,
      "outputs": [
        {
          "output_type": "execute_result",
          "data": {
            "text/plain": [
              "['alt.atheism',\n",
              " 'comp.graphics',\n",
              " 'comp.os.ms-windows.misc',\n",
              " 'comp.sys.ibm.pc.hardware',\n",
              " 'comp.sys.mac.hardware',\n",
              " 'comp.windows.x',\n",
              " 'misc.forsale',\n",
              " 'rec.autos',\n",
              " 'rec.motorcycles',\n",
              " 'rec.sport.baseball',\n",
              " 'rec.sport.hockey',\n",
              " 'sci.crypt',\n",
              " 'sci.electronics',\n",
              " 'sci.med',\n",
              " 'sci.space',\n",
              " 'soc.religion.christian',\n",
              " 'talk.politics.guns',\n",
              " 'talk.politics.mideast',\n",
              " 'talk.politics.misc',\n",
              " 'talk.religion.misc']"
            ]
          },
          "metadata": {
            "tags": []
          },
          "execution_count": 8
        }
      ]
    },
    {
      "cell_type": "markdown",
      "metadata": {
        "id": "SmdKdWU_xlFF",
        "colab_type": "text"
      },
      "source": [
        "Por simplicidad, seleccionaremos aquí sólo unas pocas categorías y descargaremos los conjuntos de entrenamiento y prueba:"
      ]
    },
    {
      "cell_type": "code",
      "metadata": {
        "id": "8XtcurKMxlFG",
        "colab_type": "code",
        "colab": {}
      },
      "source": [
        "categories = ['talk.religion.misc', 'soc.religion.christian',\n",
        "              'sci.space', 'comp.graphics']\n",
        "train = fetch_20newsgroups(subset='train', categories=categories)\n",
        "test = fetch_20newsgroups(subset='test', categories=categories)"
      ],
      "execution_count": 0,
      "outputs": []
    },
    {
      "cell_type": "markdown",
      "metadata": {
        "id": "KJSq5Wc7xlFI",
        "colab_type": "text"
      },
      "source": [
        "Aqui tenemos una entrada representativa de estos datos:"
      ]
    },
    {
      "cell_type": "code",
      "metadata": {
        "id": "sbJnU4JVxlFJ",
        "colab_type": "code",
        "outputId": "50756b6a-77fe-433f-973b-dcdc9a8c5d2f",
        "colab": {
          "base_uri": "https://localhost:8080/",
          "height": 345
        }
      },
      "source": [
        "print(train.data[5])"
      ],
      "execution_count": 10,
      "outputs": [
        {
          "output_type": "stream",
          "text": [
            "From: dmcgee@uluhe.soest.hawaii.edu (Don McGee)\n",
            "Subject: Federal Hearing\n",
            "Originator: dmcgee@uluhe\n",
            "Organization: School of Ocean and Earth Science and Technology\n",
            "Distribution: usa\n",
            "Lines: 10\n",
            "\n",
            "\n",
            "Fact or rumor....?  Madalyn Murray O'Hare an atheist who eliminated the\n",
            "use of the bible reading and prayer in public schools 15 years ago is now\n",
            "going to appear before the FCC with a petition to stop the reading of the\n",
            "Gospel on the airways of America.  And she is also campaigning to remove\n",
            "Christmas programs, songs, etc from the public schools.  If it is true\n",
            "then mail to Federal Communications Commission 1919 H Street Washington DC\n",
            "20054 expressing your opposition to her request.  Reference Petition number\n",
            "\n",
            "2493.\n",
            "\n"
          ],
          "name": "stdout"
        }
      ]
    },
    {
      "cell_type": "markdown",
      "metadata": {
        "id": "WkD5ymgAxlFL",
        "colab_type": "text"
      },
      "source": [
        "Para utilizar estos datos para el aprendizaje automático, debemos poder convertir el contenido de cada cadena en un vector de números. Para esto, usaremos el vectorizador TF-IDF, y crearemos un pipeline que lo una a un clasificador Bayes ingenuo multinomial:"
      ]
    },
    {
      "cell_type": "code",
      "metadata": {
        "id": "xE9GS6JuxlFM",
        "colab_type": "code",
        "colab": {}
      },
      "source": [
        "from sklearn.feature_extraction.text import TfidfVectorizer\n",
        "from sklearn.naive_bayes import MultinomialNB\n",
        "from sklearn.pipeline import make_pipeline\n",
        "\n",
        "model = make_pipeline(TfidfVectorizer(), MultinomialNB())"
      ],
      "execution_count": 0,
      "outputs": []
    },
    {
      "cell_type": "markdown",
      "metadata": {
        "id": "A-wxLGUmxlFO",
        "colab_type": "text"
      },
      "source": [
        "Con este pipeline, podemos aplicar el modelo a los datos de entrenamiento y predecir las etiquetas para los datos de prueba:"
      ]
    },
    {
      "cell_type": "code",
      "metadata": {
        "id": "JVjMTR1TxlFP",
        "colab_type": "code",
        "colab": {}
      },
      "source": [
        "model.fit(train.data, train.target)\n",
        "labels = model.predict(test.data)"
      ],
      "execution_count": 0,
      "outputs": []
    },
    {
      "cell_type": "markdown",
      "metadata": {
        "id": "pkJ1hiT0xlFR",
        "colab_type": "text"
      },
      "source": [
        "Ahora que hemos predicho las etiquetas para los datos de prueba, podemos evaluarlos para conocer el rendimiento del clasificador. Por ejemplo, aquí está la matriz de confusión entre las etiquetas verdaderas y las predichas para los datos de prueba:"
      ]
    },
    {
      "cell_type": "code",
      "metadata": {
        "id": "K8C9TrSbxlFS",
        "colab_type": "code",
        "outputId": "ee61c7c2-b555-47c5-ac8e-3ff107fcfb8c",
        "colab": {
          "base_uri": "https://localhost:8080/",
          "height": 396
        }
      },
      "source": [
        "from sklearn.metrics import confusion_matrix\n",
        "mat = confusion_matrix(test.target, labels)\n",
        "sns.heatmap(mat.T, square=True, annot=True, fmt='d', cbar=False,\n",
        "            xticklabels=train.target_names, yticklabels=train.target_names)\n",
        "plt.xlabel('etiqueta verdadera')\n",
        "plt.ylabel('etiqueta predicha');"
      ],
      "execution_count": 13,
      "outputs": [
        {
          "output_type": "display_data",
          "data": {
            "image/png": "[encoded data removed]",
            "text/plain": [
              "<Figure size 432x288 with 1 Axes>"
            ]
          },
          "metadata": {
            "tags": []
          }
        }
      ]
    },
    {
      "cell_type": "markdown",
      "metadata": {
        "id": "BLcZt2tVxlFX",
        "colab_type": "text"
      },
      "source": [
        "Evidentemente, incluso este clasificador muy simple puede diferenciar con éxito noticias sobre ciencia del espacio de aquellas relacionadas a computación, pero se confunde entre aquellas que hablan de cristianismo y religión.\n",
        "¡Esta es quizás un área esperada de confusión!\n",
        "\n",
        "Lo interesante aquí es que ahora tenemos las herramientas para determinar la categoría para *cualquier* string, usando el método ``predict()`` de este pipeline.\n",
        "Aquí hay una función de utilidad rápida que devolverá la predicción para un único string:"
      ]
    },
    {
      "cell_type": "code",
      "metadata": {
        "id": "NjvOmGvFxlFY",
        "colab_type": "code",
        "colab": {}
      },
      "source": [
        "def predict_category(s, train=train, model=model):\n",
        "    pred = model.predict([s])\n",
        "    return train.target_names[pred[0]]"
      ],
      "execution_count": 0,
      "outputs": []
    },
    {
      "cell_type": "markdown",
      "metadata": {
        "id": "NDwg5qfBxlFb",
        "colab_type": "text"
      },
      "source": [
        "Probémoslo:"
      ]
    },
    {
      "cell_type": "code",
      "metadata": {
        "id": "qz8FZhO2xlFc",
        "colab_type": "code",
        "outputId": "da1a9382-c85f-4898-8932-9998253d1b80",
        "colab": {
          "base_uri": "https://localhost:8080/",
          "height": 35
        }
      },
      "source": [
        "predict_category('sending a payload to the ISS')"
      ],
      "execution_count": 15,
      "outputs": [
        {
          "output_type": "execute_result",
          "data": {
            "text/plain": [
              "'sci.space'"
            ]
          },
          "metadata": {
            "tags": []
          },
          "execution_count": 15
        }
      ]
    },
    {
      "cell_type": "code",
      "metadata": {
        "id": "ZhxTj-vXxlFf",
        "colab_type": "code",
        "outputId": "2dad674d-7d2c-488d-9e13-4c9f2265b667",
        "colab": {
          "base_uri": "https://localhost:8080/",
          "height": 35
        }
      },
      "source": [
        "predict_category('discussing islam vs atheism')"
      ],
      "execution_count": 16,
      "outputs": [
        {
          "output_type": "execute_result",
          "data": {
            "text/plain": [
              "'soc.religion.christian'"
            ]
          },
          "metadata": {
            "tags": []
          },
          "execution_count": 16
        }
      ]
    },
    {
      "cell_type": "code",
      "metadata": {
        "id": "sKsLtBx-xlFh",
        "colab_type": "code",
        "outputId": "511955d2-a6c8-4ec9-bf6d-3b89019c5710",
        "colab": {
          "base_uri": "https://localhost:8080/",
          "height": 35
        }
      },
      "source": [
        "predict_category('determining the screen resolution')"
      ],
      "execution_count": 17,
      "outputs": [
        {
          "output_type": "execute_result",
          "data": {
            "text/plain": [
              "'comp.graphics'"
            ]
          },
          "metadata": {
            "tags": []
          },
          "execution_count": 17
        }
      ]
    },
    {
      "cell_type": "markdown",
      "metadata": {
        "id": "0GBMDsK3xlFk",
        "colab_type": "text"
      },
      "source": [
        "Recuerde que esto no es nada más que un simple modelo de probabilidad simple para la frecuencia (ponderada) de cada palabra en el string; sin embargo, el resultado es sorprendente.\n",
        "Incluso un algoritmo muy ingenuo, cuando se usa con cuidado y se entrena en un gran conjunto de datos de alta dimensionalidad, puede ser sorprendentemente efectivo."
      ]
    }
  ]
}